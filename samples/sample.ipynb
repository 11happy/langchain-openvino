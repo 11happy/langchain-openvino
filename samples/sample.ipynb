{
 "cells": [
  {
   "cell_type": "markdown",
   "id": "e1157a78-f814-4aa2-ae18-b2849d773bb5",
   "metadata": {
    "jp-MarkdownHeadingCollapsed": true
   },
   "source": [
    "## Necessary Imports"
   ]
  },
  {
   "cell_type": "code",
   "execution_count": 1,
   "id": "00fdd9a1-6f9b-4471-8ce8-35b65ec65dc8",
   "metadata": {},
   "outputs": [
    {
     "name": "stdout",
     "output_type": "stream",
     "text": [
      "Collecting git+https://github.com/11happy/langchain-openvino.git@v0.1.1\n",
      "  Cloning https://github.com/11happy/langchain-openvino.git (to revision v0.1.1) to c:\\users\\happy\\appdata\\local\\temp\\pip-req-build-u4vx5igl\n",
      "  Resolved https://github.com/11happy/langchain-openvino.git to commit 84b02032d9a7e2a3abbc8394179d96aaf928c6a8\n",
      "  Installing build dependencies: started\n",
      "  Installing build dependencies: finished with status 'done'\n",
      "  Getting requirements to build wheel: started\n",
      "  Getting requirements to build wheel: finished with status 'done'\n",
      "  Preparing metadata (pyproject.toml): started\n",
      "  Preparing metadata (pyproject.toml): finished with status 'done'\n",
      "Requirement already satisfied: langchain-core<0.4.0,>=0.3.60 in c:\\users\\happy\\appdata\\local\\programs\\python\\python310\\lib\\site-packages (from langchain-openvino==0.1.0) (0.3.68)\n",
      "Requirement already satisfied: openvino<2026.0.0,>=2025.1.0 in c:\\users\\happy\\appdata\\local\\programs\\python\\python310\\lib\\site-packages (from langchain-openvino==0.1.0) (2025.2.0)\n",
      "Requirement already satisfied: openvino-genai<2026.0.0.0,>=2025.1.0.0 in c:\\users\\happy\\appdata\\local\\programs\\python\\python310\\lib\\site-packages (from langchain-openvino==0.1.0) (2025.2.0.0)\n",
      "Requirement already satisfied: openvino-tokenizers<2026.0.0.0,>=2025.1.0.0 in c:\\users\\happy\\appdata\\local\\programs\\python\\python310\\lib\\site-packages (from openvino-tokenizers[transformers]<2026.0.0.0,>=2025.1.0.0->langchain-openvino==0.1.0) (2025.2.0.1)\n",
      "Requirement already satisfied: optimum-intel<2.0.0,>=1.23.0 in c:\\users\\happy\\appdata\\local\\programs\\python\\python310\\lib\\site-packages (from langchain-openvino==0.1.0) (1.24.0)\n",
      "Requirement already satisfied: pdoc<16.0.0,>=15.0.4 in c:\\users\\happy\\appdata\\local\\programs\\python\\python310\\lib\\site-packages (from langchain-openvino==0.1.0) (15.0.4)\n",
      "Requirement already satisfied: pydantic<3.0.0,>=2.11.4 in c:\\users\\happy\\appdata\\local\\programs\\python\\python310\\lib\\site-packages (from langchain-openvino==0.1.0) (2.11.7)\n",
      "Requirement already satisfied: langsmith>=0.3.45 in c:\\users\\happy\\appdata\\local\\programs\\python\\python310\\lib\\site-packages (from langchain-core<0.4.0,>=0.3.60->langchain-openvino==0.1.0) (0.4.4)\n",
      "Requirement already satisfied: tenacity!=8.4.0,<10.0.0,>=8.1.0 in c:\\users\\happy\\appdata\\local\\programs\\python\\python310\\lib\\site-packages (from langchain-core<0.4.0,>=0.3.60->langchain-openvino==0.1.0) (9.1.2)\n",
      "Requirement already satisfied: jsonpatch<2.0,>=1.33 in c:\\users\\happy\\appdata\\local\\programs\\python\\python310\\lib\\site-packages (from langchain-core<0.4.0,>=0.3.60->langchain-openvino==0.1.0) (1.33)\n",
      "Requirement already satisfied: PyYAML>=5.3 in c:\\users\\happy\\appdata\\local\\programs\\python\\python310\\lib\\site-packages (from langchain-core<0.4.0,>=0.3.60->langchain-openvino==0.1.0) (6.0.2)\n",
      "Requirement already satisfied: packaging<25,>=23.2 in c:\\users\\happy\\appdata\\local\\programs\\python\\python310\\lib\\site-packages (from langchain-core<0.4.0,>=0.3.60->langchain-openvino==0.1.0) (24.2)\n",
      "Requirement already satisfied: typing-extensions>=4.7 in c:\\users\\happy\\appdata\\local\\programs\\python\\python310\\lib\\site-packages (from langchain-core<0.4.0,>=0.3.60->langchain-openvino==0.1.0) (4.14.1)\n",
      "Requirement already satisfied: numpy<2.3.0,>=1.16.6 in c:\\users\\happy\\appdata\\local\\programs\\python\\python310\\lib\\site-packages (from openvino<2026.0.0,>=2025.1.0->langchain-openvino==0.1.0) (2.2.6)\n",
      "Requirement already satisfied: openvino-telemetry>=2023.2.1 in c:\\users\\happy\\appdata\\local\\programs\\python\\python310\\lib\\site-packages (from openvino<2026.0.0,>=2025.1.0->langchain-openvino==0.1.0) (2025.1.0)\n",
      "Requirement already satisfied: transformers<=4.51.3,>=4.36.0 in c:\\users\\happy\\appdata\\local\\programs\\python\\python310\\lib\\site-packages (from transformers[sentencepiece]<=4.51.3,>=4.36.0; extra == \"transformers\"->openvino-tokenizers[transformers]<2026.0.0.0,>=2025.1.0.0->langchain-openvino==0.1.0) (4.51.3)\n",
      "Requirement already satisfied: tiktoken<=0.9.0,>=0.3.0 in c:\\users\\happy\\appdata\\local\\programs\\python\\python310\\lib\\site-packages (from openvino-tokenizers[transformers]<2026.0.0.0,>=2025.1.0.0->langchain-openvino==0.1.0) (0.9.0)\n",
      "Requirement already satisfied: torch>=1.11 in c:\\users\\happy\\appdata\\local\\programs\\python\\python310\\lib\\site-packages (from optimum-intel<2.0.0,>=1.23.0->langchain-openvino==0.1.0) (2.7.1)\n",
      "Requirement already satisfied: optimum==1.26.* in c:\\users\\happy\\appdata\\local\\programs\\python\\python310\\lib\\site-packages (from optimum-intel<2.0.0,>=1.23.0->langchain-openvino==0.1.0) (1.26.1)\n",
      "Requirement already satisfied: datasets>=1.4.0 in c:\\users\\happy\\appdata\\local\\programs\\python\\python310\\lib\\site-packages (from optimum-intel<2.0.0,>=1.23.0->langchain-openvino==0.1.0) (3.6.0)\n",
      "Requirement already satisfied: setuptools in c:\\users\\happy\\appdata\\local\\programs\\python\\python310\\lib\\site-packages (from optimum-intel<2.0.0,>=1.23.0->langchain-openvino==0.1.0) (80.9.0)\n",
      "Requirement already satisfied: scipy in c:\\users\\happy\\appdata\\local\\programs\\python\\python310\\lib\\site-packages (from optimum-intel<2.0.0,>=1.23.0->langchain-openvino==0.1.0) (1.15.3)\n",
      "Requirement already satisfied: onnx in c:\\users\\happy\\appdata\\local\\programs\\python\\python310\\lib\\site-packages (from optimum-intel<2.0.0,>=1.23.0->langchain-openvino==0.1.0) (1.18.0)\n",
      "Requirement already satisfied: huggingface-hub>=0.8.0 in c:\\users\\happy\\appdata\\local\\programs\\python\\python310\\lib\\site-packages (from optimum==1.26.*->optimum-intel<2.0.0,>=1.23.0->langchain-openvino==0.1.0) (0.33.2)\n",
      "Requirement already satisfied: Jinja2>=2.11.0 in c:\\users\\happy\\appdata\\local\\programs\\python\\python310\\lib\\site-packages (from pdoc<16.0.0,>=15.0.4->langchain-openvino==0.1.0) (3.1.6)\n",
      "Requirement already satisfied: pygments>=2.12.0 in c:\\users\\happy\\appdata\\local\\programs\\python\\python310\\lib\\site-packages (from pdoc<16.0.0,>=15.0.4->langchain-openvino==0.1.0) (2.19.2)\n",
      "Requirement already satisfied: MarkupSafe>=1.1.1 in c:\\users\\happy\\appdata\\local\\programs\\python\\python310\\lib\\site-packages (from pdoc<16.0.0,>=15.0.4->langchain-openvino==0.1.0) (3.0.2)\n",
      "Requirement already satisfied: annotated-types>=0.6.0 in c:\\users\\happy\\appdata\\local\\programs\\python\\python310\\lib\\site-packages (from pydantic<3.0.0,>=2.11.4->langchain-openvino==0.1.0) (0.7.0)\n",
      "Requirement already satisfied: pydantic-core==2.33.2 in c:\\users\\happy\\appdata\\local\\programs\\python\\python310\\lib\\site-packages (from pydantic<3.0.0,>=2.11.4->langchain-openvino==0.1.0) (2.33.2)\n",
      "Requirement already satisfied: typing-inspection>=0.4.0 in c:\\users\\happy\\appdata\\local\\programs\\python\\python310\\lib\\site-packages (from pydantic<3.0.0,>=2.11.4->langchain-openvino==0.1.0) (0.4.1)\n",
      "Requirement already satisfied: filelock in c:\\users\\happy\\appdata\\local\\programs\\python\\python310\\lib\\site-packages (from datasets>=1.4.0->optimum-intel<2.0.0,>=1.23.0->langchain-openvino==0.1.0) (3.18.0)\n",
      "Requirement already satisfied: pyarrow>=15.0.0 in c:\\users\\happy\\appdata\\local\\programs\\python\\python310\\lib\\site-packages (from datasets>=1.4.0->optimum-intel<2.0.0,>=1.23.0->langchain-openvino==0.1.0) (20.0.0)\n",
      "Requirement already satisfied: dill<0.3.9,>=0.3.0 in c:\\users\\happy\\appdata\\local\\programs\\python\\python310\\lib\\site-packages (from datasets>=1.4.0->optimum-intel<2.0.0,>=1.23.0->langchain-openvino==0.1.0) (0.3.8)\n",
      "Requirement already satisfied: pandas in c:\\users\\happy\\appdata\\local\\programs\\python\\python310\\lib\\site-packages (from datasets>=1.4.0->optimum-intel<2.0.0,>=1.23.0->langchain-openvino==0.1.0) (2.3.0)\n",
      "Requirement already satisfied: requests>=2.32.2 in c:\\users\\happy\\appdata\\local\\programs\\python\\python310\\lib\\site-packages (from datasets>=1.4.0->optimum-intel<2.0.0,>=1.23.0->langchain-openvino==0.1.0) (2.32.4)\n",
      "Requirement already satisfied: tqdm>=4.66.3 in c:\\users\\happy\\appdata\\local\\programs\\python\\python310\\lib\\site-packages (from datasets>=1.4.0->optimum-intel<2.0.0,>=1.23.0->langchain-openvino==0.1.0) (4.67.1)\n",
      "Requirement already satisfied: xxhash in c:\\users\\happy\\appdata\\local\\programs\\python\\python310\\lib\\site-packages (from datasets>=1.4.0->optimum-intel<2.0.0,>=1.23.0->langchain-openvino==0.1.0) (3.5.0)\n",
      "Requirement already satisfied: multiprocess<0.70.17 in c:\\users\\happy\\appdata\\local\\programs\\python\\python310\\lib\\site-packages (from datasets>=1.4.0->optimum-intel<2.0.0,>=1.23.0->langchain-openvino==0.1.0) (0.70.16)\n",
      "Requirement already satisfied: fsspec<=2025.3.0,>=2023.1.0 in c:\\users\\happy\\appdata\\local\\programs\\python\\python310\\lib\\site-packages (from fsspec[http]<=2025.3.0,>=2023.1.0->datasets>=1.4.0->optimum-intel<2.0.0,>=1.23.0->langchain-openvino==0.1.0) (2025.3.0)\n",
      "Requirement already satisfied: jsonpointer>=1.9 in c:\\users\\happy\\appdata\\local\\programs\\python\\python310\\lib\\site-packages (from jsonpatch<2.0,>=1.33->langchain-core<0.4.0,>=0.3.60->langchain-openvino==0.1.0) (3.0.0)\n",
      "Requirement already satisfied: httpx<1,>=0.23.0 in c:\\users\\happy\\appdata\\local\\programs\\python\\python310\\lib\\site-packages (from langsmith>=0.3.45->langchain-core<0.4.0,>=0.3.60->langchain-openvino==0.1.0) (0.28.1)\n",
      "Requirement already satisfied: orjson<4.0.0,>=3.9.14 in c:\\users\\happy\\appdata\\local\\programs\\python\\python310\\lib\\site-packages (from langsmith>=0.3.45->langchain-core<0.4.0,>=0.3.60->langchain-openvino==0.1.0) (3.10.18)\n",
      "Requirement already satisfied: requests-toolbelt<2.0.0,>=1.0.0 in c:\\users\\happy\\appdata\\local\\programs\\python\\python310\\lib\\site-packages (from langsmith>=0.3.45->langchain-core<0.4.0,>=0.3.60->langchain-openvino==0.1.0) (1.0.0)\n",
      "Requirement already satisfied: zstandard<0.24.0,>=0.23.0 in c:\\users\\happy\\appdata\\local\\programs\\python\\python310\\lib\\site-packages (from langsmith>=0.3.45->langchain-core<0.4.0,>=0.3.60->langchain-openvino==0.1.0) (0.23.0)\n",
      "Requirement already satisfied: regex>=2022.1.18 in c:\\users\\happy\\appdata\\local\\programs\\python\\python310\\lib\\site-packages (from tiktoken<=0.9.0,>=0.3.0->openvino-tokenizers[transformers]<2026.0.0.0,>=2025.1.0.0->langchain-openvino==0.1.0) (2024.11.6)\n",
      "Requirement already satisfied: sympy>=1.13.3 in c:\\users\\happy\\appdata\\local\\programs\\python\\python310\\lib\\site-packages (from torch>=1.11->optimum-intel<2.0.0,>=1.23.0->langchain-openvino==0.1.0) (1.14.0)\n",
      "Requirement already satisfied: networkx in c:\\users\\happy\\appdata\\local\\programs\\python\\python310\\lib\\site-packages (from torch>=1.11->optimum-intel<2.0.0,>=1.23.0->langchain-openvino==0.1.0) (3.4.2)\n",
      "Requirement already satisfied: tokenizers<0.22,>=0.21 in c:\\users\\happy\\appdata\\local\\programs\\python\\python310\\lib\\site-packages (from transformers<=4.51.3,>=4.36.0->transformers[sentencepiece]<=4.51.3,>=4.36.0; extra == \"transformers\"->openvino-tokenizers[transformers]<2026.0.0.0,>=2025.1.0.0->langchain-openvino==0.1.0) (0.21.2)\n",
      "Requirement already satisfied: safetensors>=0.4.3 in c:\\users\\happy\\appdata\\local\\programs\\python\\python310\\lib\\site-packages (from transformers<=4.51.3,>=4.36.0->transformers[sentencepiece]<=4.51.3,>=4.36.0; extra == \"transformers\"->openvino-tokenizers[transformers]<2026.0.0.0,>=2025.1.0.0->langchain-openvino==0.1.0) (0.5.3)\n",
      "Requirement already satisfied: sentencepiece!=0.1.92,>=0.1.91 in c:\\users\\happy\\appdata\\local\\programs\\python\\python310\\lib\\site-packages (from transformers[sentencepiece]<=4.51.3,>=4.36.0; extra == \"transformers\"->openvino-tokenizers[transformers]<2026.0.0.0,>=2025.1.0.0->langchain-openvino==0.1.0) (0.2.0)\n",
      "Requirement already satisfied: protobuf in c:\\users\\happy\\appdata\\local\\programs\\python\\python310\\lib\\site-packages (from transformers[sentencepiece]<=4.51.3,>=4.36.0; extra == \"transformers\"->openvino-tokenizers[transformers]<2026.0.0.0,>=2025.1.0.0->langchain-openvino==0.1.0) (6.31.1)\n",
      "Requirement already satisfied: aiohttp!=4.0.0a0,!=4.0.0a1 in c:\\users\\happy\\appdata\\local\\programs\\python\\python310\\lib\\site-packages (from fsspec[http]<=2025.3.0,>=2023.1.0->datasets>=1.4.0->optimum-intel<2.0.0,>=1.23.0->langchain-openvino==0.1.0) (3.12.13)\n",
      "Requirement already satisfied: anyio in c:\\users\\happy\\appdata\\local\\programs\\python\\python310\\lib\\site-packages (from httpx<1,>=0.23.0->langsmith>=0.3.45->langchain-core<0.4.0,>=0.3.60->langchain-openvino==0.1.0) (4.9.0)\n",
      "Requirement already satisfied: certifi in c:\\users\\happy\\appdata\\local\\programs\\python\\python310\\lib\\site-packages (from httpx<1,>=0.23.0->langsmith>=0.3.45->langchain-core<0.4.0,>=0.3.60->langchain-openvino==0.1.0) (2025.6.15)\n",
      "Requirement already satisfied: httpcore==1.* in c:\\users\\happy\\appdata\\local\\programs\\python\\python310\\lib\\site-packages (from httpx<1,>=0.23.0->langsmith>=0.3.45->langchain-core<0.4.0,>=0.3.60->langchain-openvino==0.1.0) (1.0.9)\n",
      "Requirement already satisfied: idna in c:\\users\\happy\\appdata\\local\\programs\\python\\python310\\lib\\site-packages (from httpx<1,>=0.23.0->langsmith>=0.3.45->langchain-core<0.4.0,>=0.3.60->langchain-openvino==0.1.0) (3.10)\n",
      "Requirement already satisfied: h11>=0.16 in c:\\users\\happy\\appdata\\local\\programs\\python\\python310\\lib\\site-packages (from httpcore==1.*->httpx<1,>=0.23.0->langsmith>=0.3.45->langchain-core<0.4.0,>=0.3.60->langchain-openvino==0.1.0) (0.16.0)\n",
      "Requirement already satisfied: charset_normalizer<4,>=2 in c:\\users\\happy\\appdata\\local\\programs\\python\\python310\\lib\\site-packages (from requests>=2.32.2->datasets>=1.4.0->optimum-intel<2.0.0,>=1.23.0->langchain-openvino==0.1.0) (3.4.2)\n",
      "Requirement already satisfied: urllib3<3,>=1.21.1 in c:\\users\\happy\\appdata\\local\\programs\\python\\python310\\lib\\site-packages (from requests>=2.32.2->datasets>=1.4.0->optimum-intel<2.0.0,>=1.23.0->langchain-openvino==0.1.0) (2.5.0)\n",
      "Requirement already satisfied: mpmath<1.4,>=1.1.0 in c:\\users\\happy\\appdata\\local\\programs\\python\\python310\\lib\\site-packages (from sympy>=1.13.3->torch>=1.11->optimum-intel<2.0.0,>=1.23.0->langchain-openvino==0.1.0) (1.3.0)\n",
      "Requirement already satisfied: colorama in c:\\users\\happy\\appdata\\local\\programs\\python\\python310\\lib\\site-packages (from tqdm>=4.66.3->datasets>=1.4.0->optimum-intel<2.0.0,>=1.23.0->langchain-openvino==0.1.0) (0.4.6)\n",
      "Requirement already satisfied: python-dateutil>=2.8.2 in c:\\users\\happy\\appdata\\local\\programs\\python\\python310\\lib\\site-packages (from pandas->datasets>=1.4.0->optimum-intel<2.0.0,>=1.23.0->langchain-openvino==0.1.0) (2.9.0.post0)\n",
      "Requirement already satisfied: pytz>=2020.1 in c:\\users\\happy\\appdata\\local\\programs\\python\\python310\\lib\\site-packages (from pandas->datasets>=1.4.0->optimum-intel<2.0.0,>=1.23.0->langchain-openvino==0.1.0) (2025.2)\n",
      "Requirement already satisfied: tzdata>=2022.7 in c:\\users\\happy\\appdata\\local\\programs\\python\\python310\\lib\\site-packages (from pandas->datasets>=1.4.0->optimum-intel<2.0.0,>=1.23.0->langchain-openvino==0.1.0) (2025.2)\n",
      "Requirement already satisfied: aiohappyeyeballs>=2.5.0 in c:\\users\\happy\\appdata\\local\\programs\\python\\python310\\lib\\site-packages (from aiohttp!=4.0.0a0,!=4.0.0a1->fsspec[http]<=2025.3.0,>=2023.1.0->datasets>=1.4.0->optimum-intel<2.0.0,>=1.23.0->langchain-openvino==0.1.0) (2.6.1)\n",
      "Requirement already satisfied: aiosignal>=1.1.2 in c:\\users\\happy\\appdata\\local\\programs\\python\\python310\\lib\\site-packages (from aiohttp!=4.0.0a0,!=4.0.0a1->fsspec[http]<=2025.3.0,>=2023.1.0->datasets>=1.4.0->optimum-intel<2.0.0,>=1.23.0->langchain-openvino==0.1.0) (1.4.0)\n",
      "Requirement already satisfied: async-timeout<6.0,>=4.0 in c:\\users\\happy\\appdata\\local\\programs\\python\\python310\\lib\\site-packages (from aiohttp!=4.0.0a0,!=4.0.0a1->fsspec[http]<=2025.3.0,>=2023.1.0->datasets>=1.4.0->optimum-intel<2.0.0,>=1.23.0->langchain-openvino==0.1.0) (5.0.1)\n",
      "Requirement already satisfied: attrs>=17.3.0 in c:\\users\\happy\\appdata\\local\\programs\\python\\python310\\lib\\site-packages (from aiohttp!=4.0.0a0,!=4.0.0a1->fsspec[http]<=2025.3.0,>=2023.1.0->datasets>=1.4.0->optimum-intel<2.0.0,>=1.23.0->langchain-openvino==0.1.0) (25.3.0)\n",
      "Requirement already satisfied: frozenlist>=1.1.1 in c:\\users\\happy\\appdata\\local\\programs\\python\\python310\\lib\\site-packages (from aiohttp!=4.0.0a0,!=4.0.0a1->fsspec[http]<=2025.3.0,>=2023.1.0->datasets>=1.4.0->optimum-intel<2.0.0,>=1.23.0->langchain-openvino==0.1.0) (1.7.0)\n",
      "Requirement already satisfied: multidict<7.0,>=4.5 in c:\\users\\happy\\appdata\\local\\programs\\python\\python310\\lib\\site-packages (from aiohttp!=4.0.0a0,!=4.0.0a1->fsspec[http]<=2025.3.0,>=2023.1.0->datasets>=1.4.0->optimum-intel<2.0.0,>=1.23.0->langchain-openvino==0.1.0) (6.6.3)\n",
      "Requirement already satisfied: propcache>=0.2.0 in c:\\users\\happy\\appdata\\local\\programs\\python\\python310\\lib\\site-packages (from aiohttp!=4.0.0a0,!=4.0.0a1->fsspec[http]<=2025.3.0,>=2023.1.0->datasets>=1.4.0->optimum-intel<2.0.0,>=1.23.0->langchain-openvino==0.1.0) (0.3.2)\n",
      "Requirement already satisfied: yarl<2.0,>=1.17.0 in c:\\users\\happy\\appdata\\local\\programs\\python\\python310\\lib\\site-packages (from aiohttp!=4.0.0a0,!=4.0.0a1->fsspec[http]<=2025.3.0,>=2023.1.0->datasets>=1.4.0->optimum-intel<2.0.0,>=1.23.0->langchain-openvino==0.1.0) (1.20.1)\n",
      "Requirement already satisfied: six>=1.5 in c:\\users\\happy\\appdata\\local\\programs\\python\\python310\\lib\\site-packages (from python-dateutil>=2.8.2->pandas->datasets>=1.4.0->optimum-intel<2.0.0,>=1.23.0->langchain-openvino==0.1.0) (1.17.0)\n",
      "Requirement already satisfied: exceptiongroup>=1.0.2 in c:\\users\\happy\\appdata\\local\\programs\\python\\python310\\lib\\site-packages (from anyio->httpx<1,>=0.23.0->langsmith>=0.3.45->langchain-core<0.4.0,>=0.3.60->langchain-openvino==0.1.0) (1.3.0)\n",
      "Requirement already satisfied: sniffio>=1.1 in c:\\users\\happy\\appdata\\local\\programs\\python\\python310\\lib\\site-packages (from anyio->httpx<1,>=0.23.0->langsmith>=0.3.45->langchain-core<0.4.0,>=0.3.60->langchain-openvino==0.1.0) (1.3.1)\n"
     ]
    },
    {
     "name": "stderr",
     "output_type": "stream",
     "text": [
      "  Running command git clone --filter=blob:none --quiet https://github.com/11happy/langchain-openvino.git 'C:\\Users\\Happy\\AppData\\Local\\Temp\\pip-req-build-u4vx5igl'\n",
      "  Running command git checkout -q 84b02032d9a7e2a3abbc8394179d96aaf928c6a8\n",
      "\n",
      "[notice] A new release of pip is available: 25.0.1 -> 25.1.1\n",
      "[notice] To update, run: python.exe -m pip install --upgrade pip\n"
     ]
    }
   ],
   "source": [
    "!pip install git+https://github.com/11happy/langchain-openvino.git@v0.1.1"
   ]
  },
  {
   "cell_type": "code",
   "execution_count": 2,
   "id": "28974ff6-38c2-4216-9e1f-0343c7703a80",
   "metadata": {},
   "outputs": [],
   "source": [
    "from langchain_openvino.chat_model import ChatOpenVINO"
   ]
  },
  {
   "cell_type": "markdown",
   "id": "7fedb599-f3e4-4d47-b8c1-b080ade80be8",
   "metadata": {},
   "source": [
    "## Loading an OpenVINO model and running simple inference"
   ]
  },
  {
   "cell_type": "code",
   "execution_count": 3,
   "id": "9e35016f-31c8-48fc-8dbc-64c4dd6d8123",
   "metadata": {},
   "outputs": [],
   "source": [
    "model_path = r\"D:\\main-model\" # Change path accordingly\n",
    "\n",
    "chat_model = ChatOpenVINO(\n",
    "    model_path=model_path,\n",
    "    device=\"CPU\",\n",
    "    max_tokens=128,\n",
    "    temperature=0.7,\n",
    "    top_k=20,\n",
    "    top_p=0.9,\n",
    "    do_sample=True\n",
    ")"
   ]
  },
  {
   "cell_type": "code",
   "execution_count": 4,
   "id": "73d4f8b4-af20-468c-b60b-c4bd1f1c2427",
   "metadata": {},
   "outputs": [
    {
     "name": "stdout",
     "output_type": "stream",
     "text": [
      "Response: OpenVINO is an open-source project initiated by Intel to accelerate deep learning and computer vision applications. It provides tools for converting pre-trained models into optimized formats that can run efficiently on Intel® hardware, particularly Intel® processors and platforms. The core components of OpenVINO include Model Optimizer and Inference Engine, which together enable developers to deploy machine learning models for tasks such as image classification, object detection, and semantic segmentation. OpenVINO aims to make AI more accessible by simplifying the deployment process and enhancing the performance of AI applications on Intel hardware.\n"
     ]
    }
   ],
   "source": [
    "response = chat_model.invoke(\"What is OpenVINO\")\n",
    "print(\"Response:\", response.content)"
   ]
  },
  {
   "cell_type": "markdown",
   "id": "92368060-d562-492a-ae0b-c298e258af27",
   "metadata": {
    "jp-MarkdownHeadingCollapsed": true
   },
   "source": [
    "## Changing parameters"
   ]
  },
  {
   "cell_type": "code",
   "execution_count": 22,
   "id": "ae0cf3a4-e81e-40f2-9228-34d9d66c17d5",
   "metadata": {},
   "outputs": [
    {
     "name": "stdout",
     "output_type": "stream",
     "text": [
      "Response: A neural network, in the context of computer science and machine learning, refers to a series of algorithms and data structures designed to recognize patterns for predictive modeling. These networks are inspired by the human brain's structure and function, and they consist of layers of interconnected processing nodes called \"neurons\" or \"nodes.\"\n",
      "\n",
      "A neural network operates through three main steps:\n",
      "\n",
      "1. **Input:** The initial step involves feeding data into the neural network. This data\n"
     ]
    }
   ],
   "source": [
    "chat_model = (\n",
    "    chat_model\n",
    "    .with_temperature(0.9)\n",
    "    .with_top_k(40)\n",
    "    .with_top_p(0.95)\n",
    "    .with_max_tokens(100)\n",
    "    .with_do_sample(True)\n",
    "    .with_device(\"CPU\")\n",
    ")\n",
    "\n",
    "response = chat_model.invoke(\"What is a neural network ?\")\n",
    "print(\"Response:\", response.content)\n"
   ]
  },
  {
   "cell_type": "markdown",
   "id": "b905eb81-5de3-4358-a5de-2eddcdfaa02c",
   "metadata": {},
   "source": [
    "## Streaming text generation"
   ]
  },
  {
   "cell_type": "code",
   "execution_count": 26,
   "id": "6d1822c0-38dd-47bd-967a-f36630b52544",
   "metadata": {},
   "outputs": [
    {
     "name": "stdout",
     "output_type": "stream",
     "text": [
      "In a small town called Meadowbrook, three children discovered a mysterious garden behind their school. Curious, they entered and found enchanting flowers that shimmered under the moonlight. One flower spoke, warning them of an impending storm. The children, brave and caring, stayed in the garden, protecting the flowers until dawn. They learned of a secret bond between all living things, promising to safeguard nature. The garden flourished, and the children became guardians of Meadowbrook, teaching everyone the importance of respecting and protecting the environment."
     ]
    }
   ],
   "source": [
    "for chunk in chat_model.with_max_tokens(512).stream(\"Tell me a story within 100 words\"):\n",
    "    print(chunk.content, end=\"\", flush=True)"
   ]
  },
  {
   "cell_type": "markdown",
   "id": "bc43f712-63fa-4e4e-b238-2d02e394a6ed",
   "metadata": {},
   "source": [
    "## Speculative decoding with draft model"
   ]
  },
  {
   "cell_type": "code",
   "execution_count": null,
   "id": "cbbd0894-1b03-49cc-b5f6-8ddb23a38ed0",
   "metadata": {},
   "outputs": [],
   "source": [
    "draft_model_path =  r\"D:\\draft-model\" # Change it accordingly\n",
    "\n",
    "speculative_decoding_chat_model = ChatOpenVINO(\n",
    "    model_path=model_path,\n",
    "    draft_model_path=draft_model_path,\n",
    "    max_tokens=64,\n",
    ")\n",
    "response = speculative_decoding_chat_model.invoke(\"explain what is deep learning in reference to artificial intelligence?\")\n",
    "print(\"Response:\", response.content)\n",
    "\n",
    "for chunk in speculative_decoding_chat_model.with_max_tokens(32).stream(\"explain what is deep learning in reference to artificial intelligence?\"):\n",
    "    print(chunk.content, end=\"\", flush=True)"
   ]
  },
  {
   "cell_type": "markdown",
   "id": "2925e9ef-2a7e-4009-8382-ad74aa7ee716",
   "metadata": {},
   "source": [
    "## Prompt Lookup"
   ]
  },
  {
   "cell_type": "code",
   "execution_count": 5,
   "id": "aa68b055-9c9c-4b58-9998-d40b81a7f4ba",
   "metadata": {},
   "outputs": [
    {
     "name": "stdout",
     "output_type": "stream",
     "text": [
      "Response: OpenVINO is an open-source project created by Intel and The University of Illinois Urbana-Champaign that focuses on developing tools for optimizing machine learning models for the Intel Movidius Neural Compute Stick. The main application of OpenVINO is the Model Optimizer which prepares and optimizes deep learning models for inference on different hardware platforms. In conjunction with its tools and workflows, OpenVINO enables developers to deploy machine learning models to edge devices like IoT, ARM, etc., thereby enabling AI functionality on embedded systems.\n"
     ]
    }
   ],
   "source": [
    "prompt_lookup_model = ChatOpenVINO(\n",
    "    model_path=model_path,\n",
    "    prompt_lookup=True,\n",
    ")\n",
    "response = prompt_lookup_model.invoke(\"What is OpenVINO\")\n",
    "print(\"Response:\", response.content)"
   ]
  },
  {
   "cell_type": "code",
   "execution_count": null,
   "id": "7fc70d88-988b-4b70-be52-d1c1f2138d26",
   "metadata": {},
   "outputs": [],
   "source": []
  }
 ],
 "metadata": {
  "kernelspec": {
   "display_name": "Python 3 (ipykernel)",
   "language": "python",
   "name": "python3"
  },
  "language_info": {
   "codemirror_mode": {
    "name": "ipython",
    "version": 3
   },
   "file_extension": ".py",
   "mimetype": "text/x-python",
   "name": "python",
   "nbconvert_exporter": "python",
   "pygments_lexer": "ipython3",
   "version": "3.10.1"
  }
 },
 "nbformat": 4,
 "nbformat_minor": 5
}
